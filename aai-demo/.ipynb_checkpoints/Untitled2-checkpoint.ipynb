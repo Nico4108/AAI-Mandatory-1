{
 "cells": [
  {
   "cell_type": "code",
   "execution_count": 7,
   "id": "fe1b37de",
   "metadata": {},
   "outputs": [],
   "source": [
    "import time\n",
    "import numpy as np\n",
    "import matplotlib.pyplot as plt\n",
    "from sklearn.datasets import fetch_openml"
   ]
  },
  {
   "cell_type": "code",
   "execution_count": 9,
   "id": "032e6f95",
   "metadata": {},
   "outputs": [],
   "source": [
    "mnist = fetch_openml('mnist_784', data_home='~/datasets/mnist')"
   ]
  },
  {
   "cell_type": "code",
   "execution_count": 10,
   "id": "0c0697d5",
   "metadata": {},
   "outputs": [
    {
     "data": {
      "text/plain": [
       "(70000, 784)"
      ]
     },
     "execution_count": 10,
     "metadata": {},
     "output_type": "execute_result"
    }
   ],
   "source": [
    "mnist.data.shape"
   ]
  },
  {
   "cell_type": "code",
   "execution_count": 11,
   "id": "28eae2cb",
   "metadata": {},
   "outputs": [
    {
     "data": {
      "text/plain": [
       "array(['5', '0', '4', ..., '4', '5', '6'], dtype=object)"
      ]
     },
     "execution_count": 11,
     "metadata": {},
     "output_type": "execute_result"
    }
   ],
   "source": [
    "Z = np.c_[mnist.target, mnist.data]\n",
    "Z[:,0]"
   ]
  },
  {
   "cell_type": "code",
   "execution_count": 12,
   "id": "e09f285e",
   "metadata": {},
   "outputs": [],
   "source": [
    "# split data and labels into X and Y\n",
    "X = Z[:,1:]\n",
    "Y = Z[:,0]"
   ]
  },
  {
   "cell_type": "code",
   "execution_count": 13,
   "id": "4f41c660",
   "metadata": {},
   "outputs": [
    {
     "name": "stdout",
     "output_type": "stream",
     "text": [
      "6\n"
     ]
    },
    {
     "data": {
      "image/png": "[encoded data removed]",
      "text/plain": [
       "<Figure size 432x288 with 1 Axes>"
      ]
     },
     "metadata": {
      "needs_background": "light"
     },
     "output_type": "display_data"
    }
   ],
   "source": [
    "idx = 1100\n",
    "X = np.asarray(X, dtype=int)\n",
    "print(Y[idx])\n",
    "img = plt.imshow(X[idx].reshape(28,28), cmap='gray_r')"
   ]
  },
  {
   "cell_type": "code",
   "execution_count": 14,
   "id": "2e0f85b5",
   "metadata": {},
   "outputs": [],
   "source": [
    "# training set\n",
    "X_train = X[0:50000]\n",
    "Y_train = Y[0:50000]\n",
    "\n",
    "# validation set\n",
    "X_val = X[50000:60000]\n",
    "Y_val = Y[50000:60000]\n",
    "\n",
    "# test set\n",
    "X_test = X[60000:70000]\n",
    "Y_test = Y[60000:70000]"
   ]
  },
  {
   "cell_type": "code",
   "execution_count": 15,
   "id": "f06ccf71",
   "metadata": {},
   "outputs": [
    {
     "data": {
      "text/plain": [
       "(50000, 784)"
      ]
     },
     "execution_count": 15,
     "metadata": {},
     "output_type": "execute_result"
    }
   ],
   "source": [
    "X_train.shape"
   ]
  },
  {
   "cell_type": "code",
   "execution_count": 16,
   "id": "ef6f575c",
   "metadata": {},
   "outputs": [],
   "source": [
    "from sklearn.neural_network import MLPClassifier\n",
    "from sklearn.neighbors import KNeighborsClassifier\n",
    "from sklearn.svm import SVC\n",
    "from sklearn.gaussian_process import GaussianProcessClassifier\n",
    "from sklearn.gaussian_process.kernels import RBF\n",
    "from sklearn.tree import DecisionTreeClassifier\n",
    "from sklearn.ensemble import RandomForestClassifier, AdaBoostClassifier\n",
    "from sklearn.naive_bayes import GaussianNB\n",
    "from sklearn.discriminant_analysis import QuadraticDiscriminantAnalysis"
   ]
  },
  {
   "cell_type": "code",
   "execution_count": 32,
   "id": "bd36106c",
   "metadata": {},
   "outputs": [],
   "source": [
    "# Assignment 14 Lecture 10"
   ]
  },
  {
   "cell_type": "code",
   "execution_count": 47,
   "id": "103a6c1a",
   "metadata": {},
   "outputs": [],
   "source": [
    "classifier_names = [\n",
    "    #\"Decision Tree\",\n",
    "    #\"Random Forest\", \n",
    "    \"Neural Net (75, 75)\", \n",
    "    #\"Neural Net (784, 784, 784)\", \n",
    "    #\"Naive Bayes\"\n",
    "]"
   ]
  },
  {
   "cell_type": "code",
   "execution_count": 51,
   "id": "a84ddc0e",
   "metadata": {},
   "outputs": [],
   "source": [
    "classifiers = [\n",
    "    #RandomForestClassifier(n_estimators=100, max_features=500, min_samples_split=2000, min_samples_leaf=1000),\n",
    "    # n_estimators = number of trees in the foreset\n",
    "    # max_features = max number of features considered for splitting a node\n",
    "    # min_samples_split = min number of data points placed in a node before the node is split\n",
    "    # min_samples_leaf = min number of data points allowed in a leaf node\n",
    "    \n",
    "    MLPClassifier(hidden_layer_sizes=(75, 75), activation='tanh', solver='adam'),\n",
    "    # Activation function for the hidden layer.\n",
    "    # ‘identity’, no-op activation, useful to implement linear bottleneck, returns f(x) = x\n",
    "    # ‘logistic’, the logistic sigmoid function, returns f(x) = 1 / (1 + exp(-x)).\n",
    "    # ‘tanh’, the hyperbolic tan function, returns f(x) = tanh(x).\n",
    "    # ‘relu’, the rectified linear unit function, returns f(x) = max(0, x)\n",
    "\n",
    "    # The solver for weight optimization.\n",
    "\n",
    "    # ‘lbfgs’ is an optimizer in the family of quasi-Newton methods.\n",
    "    # ‘sgd’ refers to stochastic gradient descent.\n",
    "    # ‘adam’ refers to a stochastic gradient-based optimizer proposed by Kingma, Diederik, and Jimmy Ba\n",
    "]"
   ]
  },
  {
   "cell_type": "code",
   "execution_count": 39,
   "id": "d3f84d10",
   "metadata": {},
   "outputs": [
    {
     "name": "stdout",
     "output_type": "stream",
     "text": [
      "** Random Forest\n",
      "\tTraining time:\t\t5.565\n",
      "\tPrediction time(train):\t0.291\n",
      "\tPrediction time(test):\t0.234\n",
      "\tScore Train: 0.963\tScore Test: 0.946\n"
     ]
    }
   ],
   "source": [
    "# RandomForestClassifier(n_estimators=100, max_features=5, min_samples_split=20, min_samples_leaf=10)\n",
    "for clf, clf_name in zip(classifiers, classifier_names):\n",
    "    print(f\"** {clf_name}\")\n",
    "    t0 = time.time()\n",
    "    clf.fit(X_train, Y_train)\n",
    "    t1 = time.time()\n",
    "    print(f\"\\tTraining time:\\t\\t{t1-t0:3.3f}\")\n",
    "    score_train = clf.score(X_train[0:10000], Y_train[0:10000])\n",
    "    t2 = time.time()\n",
    "    print(f\"\\tPrediction time(train):\\t{t2-t1:3.3f}\")\n",
    "    score_test = clf.score(X_test, Y_test)\n",
    "    t3 = time.time()\n",
    "    print(f\"\\tPrediction time(test):\\t{t3-t2:3.3f}\")\n",
    "    print(f\"\\tScore Train: {score_train:.3f}\\tScore Test: {score_test:.3f}\")"
   ]
  },
  {
   "cell_type": "code",
   "execution_count": 41,
   "id": "a9726940",
   "metadata": {},
   "outputs": [
    {
     "name": "stdout",
     "output_type": "stream",
     "text": [
      "** Random Forest\n",
      "\tTraining time:\t\t26.443\n",
      "\tPrediction time(train):\t0.194\n",
      "\tPrediction time(test):\t0.200\n",
      "\tScore Train: 0.926\tScore Test: 0.923\n"
     ]
    }
   ],
   "source": [
    "#     RandomForestClassifier(n_estimators=100, max_features=50, min_samples_split=200, min_samples_leaf=100)\n",
    "for clf, clf_name in zip(classifiers, classifier_names):\n",
    "    print(f\"** {clf_name}\")\n",
    "    t0 = time.time()\n",
    "    clf.fit(X_train, Y_train)\n",
    "    t1 = time.time()\n",
    "    print(f\"\\tTraining time:\\t\\t{t1-t0:3.3f}\")\n",
    "    score_train = clf.score(X_train[0:10000], Y_train[0:10000])\n",
    "    t2 = time.time()\n",
    "    print(f\"\\tPrediction time(train):\\t{t2-t1:3.3f}\")\n",
    "    score_test = clf.score(X_test, Y_test)\n",
    "    t3 = time.time()\n",
    "    print(f\"\\tPrediction time(test):\\t{t3-t2:3.3f}\")\n",
    "    print(f\"\\tScore Train: {score_train:.3f}\\tScore Test: {score_test:.3f}\")"
   ]
  },
  {
   "cell_type": "code",
   "execution_count": 44,
   "id": "d8a46ef3",
   "metadata": {},
   "outputs": [
    {
     "name": "stdout",
     "output_type": "stream",
     "text": [
      "** Random Forest\n",
      "\tTraining time:\t\t102.479\n",
      "\tPrediction time(train):\t0.122\n",
      "\tPrediction time(test):\t0.113\n",
      "\tScore Train: 0.756\tScore Test: 0.764\n"
     ]
    }
   ],
   "source": [
    "#     RandomForestClassifier(n_estimators=100, max_features=500, min_samples_split=2000, min_samples_leaf=1000)\n",
    "for clf, clf_name in zip(classifiers, classifier_names):\n",
    "    print(f\"** {clf_name}\")\n",
    "    t0 = time.time()\n",
    "    clf.fit(X_train, Y_train)\n",
    "    t1 = time.time()\n",
    "    print(f\"\\tTraining time:\\t\\t{t1-t0:3.3f}\")\n",
    "    score_train = clf.score(X_train[0:10000], Y_train[0:10000])\n",
    "    t2 = time.time()\n",
    "    print(f\"\\tPrediction time(train):\\t{t2-t1:3.3f}\")\n",
    "    score_test = clf.score(X_test, Y_test)\n",
    "    t3 = time.time()\n",
    "    print(f\"\\tPrediction time(test):\\t{t3-t2:3.3f}\")\n",
    "    print(f\"\\tScore Train: {score_train:.3f}\\tScore Test: {score_test:.3f}\")"
   ]
  },
  {
   "cell_type": "code",
   "execution_count": 45,
   "id": "35935c80",
   "metadata": {},
   "outputs": [],
   "source": [
    "#------------------------------------------------------------------------------------------#"
   ]
  },
  {
   "cell_type": "code",
   "execution_count": 48,
   "id": "da613fd5",
   "metadata": {},
   "outputs": [
    {
     "name": "stdout",
     "output_type": "stream",
     "text": [
      "** Neural Net (75, 75)\n"
     ]
    },
    {
     "name": "stderr",
     "output_type": "stream",
     "text": [
      "/Users/nicspiegelhauer/Documents/Skole/7. Semester SD/AI ML/py-env/lib/python3.10/site-packages/sklearn/neural_network/_multilayer_perceptron.py:500: ConvergenceWarning: lbfgs failed to converge (status=1):\n",
      "STOP: TOTAL NO. of ITERATIONS REACHED LIMIT.\n",
      "\n",
      "Increase the number of iterations (max_iter) or scale the data as shown in:\n",
      "    https://scikit-learn.org/stable/modules/preprocessing.html\n",
      "  self.n_iter_ = _check_optimize_result(\"lbfgs\", opt_res, self.max_iter)\n"
     ]
    },
    {
     "name": "stdout",
     "output_type": "stream",
     "text": [
      "\tTraining time:\t\t98.220\n",
      "\tPrediction time(train):\t0.222\n",
      "\tPrediction time(test):\t0.323\n",
      "\tScore Train: 0.924\tScore Test: 0.919\n"
     ]
    }
   ],
   "source": [
    "# MLPClassifier(hidden_layer_sizes=(75, 75), activation='identity', solver='lbfgs')\n",
    "for clf, clf_name in zip(classifiers, classifier_names):\n",
    "    print(f\"** {clf_name}\")\n",
    "    t0 = time.time()\n",
    "    clf.fit(X_train, Y_train)\n",
    "    t1 = time.time()\n",
    "    print(f\"\\tTraining time:\\t\\t{t1-t0:3.3f}\")\n",
    "    score_train = clf.score(X_train[0:10000], Y_train[0:10000])\n",
    "    t2 = time.time()\n",
    "    print(f\"\\tPrediction time(train):\\t{t2-t1:3.3f}\")\n",
    "    score_test = clf.score(X_test, Y_test)\n",
    "    t3 = time.time()\n",
    "    print(f\"\\tPrediction time(test):\\t{t3-t2:3.3f}\")\n",
    "    print(f\"\\tScore Train: {score_train:.3f}\\tScore Test: {score_test:.3f}\")"
   ]
  },
  {
   "cell_type": "code",
   "execution_count": 50,
   "id": "6360660c",
   "metadata": {},
   "outputs": [
    {
     "name": "stdout",
     "output_type": "stream",
     "text": [
      "** Neural Net (75, 75)\n"
     ]
    },
    {
     "name": "stderr",
     "output_type": "stream",
     "text": [
      "/Users/nicspiegelhauer/Documents/Skole/7. Semester SD/AI ML/py-env/lib/python3.10/site-packages/sklearn/neural_network/_multilayer_perceptron.py:614: ConvergenceWarning: Stochastic Optimizer: Maximum iterations (200) reached and the optimization hasn't converged yet.\n",
      "  warnings.warn(\n"
     ]
    },
    {
     "name": "stdout",
     "output_type": "stream",
     "text": [
      "\tTraining time:\t\t309.808\n",
      "\tPrediction time(train):\t0.164\n",
      "\tPrediction time(test):\t0.140\n",
      "\tScore Train: 0.988\tScore Test: 0.952\n"
     ]
    }
   ],
   "source": [
    "# MLPClassifier(hidden_layer_sizes=(75, 75), activation='logistic', solver='sgd')\n",
    "for clf, clf_name in zip(classifiers, classifier_names):\n",
    "    print(f\"** {clf_name}\")\n",
    "    t0 = time.time()\n",
    "    clf.fit(X_train, Y_train)\n",
    "    t1 = time.time()\n",
    "    print(f\"\\tTraining time:\\t\\t{t1-t0:3.3f}\")\n",
    "    score_train = clf.score(X_train[0:10000], Y_train[0:10000])\n",
    "    t2 = time.time()\n",
    "    print(f\"\\tPrediction time(train):\\t{t2-t1:3.3f}\")\n",
    "    score_test = clf.score(X_test, Y_test)\n",
    "    t3 = time.time()\n",
    "    print(f\"\\tPrediction time(test):\\t{t3-t2:3.3f}\")\n",
    "    print(f\"\\tScore Train: {score_train:.3f}\\tScore Test: {score_test:.3f}\")"
   ]
  },
  {
   "cell_type": "code",
   "execution_count": 52,
   "id": "40c28a14",
   "metadata": {},
   "outputs": [
    {
     "name": "stdout",
     "output_type": "stream",
     "text": [
      "** Neural Net (75, 75)\n",
      "\tTraining time:\t\t122.060\n",
      "\tPrediction time(train):\t0.101\n",
      "\tPrediction time(test):\t0.072\n",
      "\tScore Train: 0.955\tScore Test: 0.945\n"
     ]
    }
   ],
   "source": [
    "# MLPClassifier(hidden_layer_sizes=(75, 75), activation='tanh', solver='adam')\n",
    "for clf, clf_name in zip(classifiers, classifier_names):\n",
    "    print(f\"** {clf_name}\")\n",
    "    t0 = time.time()\n",
    "    clf.fit(X_train, Y_train)\n",
    "    t1 = time.time()\n",
    "    print(f\"\\tTraining time:\\t\\t{t1-t0:3.3f}\")\n",
    "    score_train = clf.score(X_train[0:10000], Y_train[0:10000])\n",
    "    t2 = time.time()\n",
    "    print(f\"\\tPrediction time(train):\\t{t2-t1:3.3f}\")\n",
    "    score_test = clf.score(X_test, Y_test)\n",
    "    t3 = time.time()\n",
    "    print(f\"\\tPrediction time(test):\\t{t3-t2:3.3f}\")\n",
    "    print(f\"\\tScore Train: {score_train:.3f}\\tScore Test: {score_test:.3f}\")"
   ]
  },
  {
   "cell_type": "code",
   "execution_count": null,
   "id": "533313fa",
   "metadata": {},
   "outputs": [],
   "source": []
  }
 ],
 "metadata": {
  "kernelspec": {
   "display_name": "Python 3 (ipykernel)",
   "language": "python",
   "name": "python3"
  },
  "language_info": {
   "codemirror_mode": {
    "name": "ipython",
    "version": 3
   },
   "file_extension": ".py",
   "mimetype": "text/x-python",
   "name": "python",
   "nbconvert_exporter": "python",
   "pygments_lexer": "ipython3",
   "version": "3.10.2"
  }
 },
 "nbformat": 4,
 "nbformat_minor": 5
}
