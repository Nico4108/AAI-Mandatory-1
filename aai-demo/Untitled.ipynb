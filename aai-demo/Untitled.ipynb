{
 "cells": [
  {
   "cell_type": "code",
   "execution_count": 2,
   "id": "2ab191bb",
   "metadata": {},
   "outputs": [],
   "source": [
    "import numpy as np\n",
    "import matplotlib.pyplot as pyplot"
   ]
  },
  {
   "cell_type": "code",
   "execution_count": 78,
   "id": "55ed08b9",
   "metadata": {},
   "outputs": [],
   "source": [
    "x = [1, 3, 4.5, 5.5]\n",
    "y = [2.5, 3, 3, 3.5]\n",
    "#x = np.arange(10000)\n",
    "#delta = np.random.uniform(-10,10, size=(10000,))\n",
    "#y = .4 * x +3 + delta"
   ]
  },
  {
   "cell_type": "code",
   "execution_count": 87,
   "id": "da3cb08b",
   "metadata": {},
   "outputs": [],
   "source": [
    "def h(theta, x):\n",
    "    return theta[0] + theta[1] * x"
   ]
  },
  {
   "cell_type": "code",
   "execution_count": 88,
   "id": "e56749cf",
   "metadata": {},
   "outputs": [],
   "source": [
    "m = len(y)\n",
    "\n",
    "X = np.zeros((m, 2))\n",
    "\n",
    "X[: ,0] = 1\n",
    "X[: ,1] = x"
   ]
  },
  {
   "cell_type": "code",
   "execution_count": 89,
   "id": "c4e82b6c",
   "metadata": {},
   "outputs": [],
   "source": [
    "def gradient_step(theta, x, y, alpha, verbose=False):\n",
    "    if verbose: print(\"Gradient step \", theta, x, y, alpha)\n",
    "    delta = np.zeros(np.shape(theta))\n",
    "    m = len(y)\n",
    "    for i in range(m):\n",
    "        delta[0] -= (2/float(m)) * (y[i] - h(theta, x[i]))\n",
    "        delta[1] -= (2/float(m)) * (y[i] - h(theta, x[i])) * x[i]\n",
    "        if verbose: print(i, delta)\n",
    "    if verbose:\n",
    "        print(\"Theta\", theta - alpha * delta)\n",
    "        print(\"Cost\", sum(1/(2*m) * np.square(h(theta, np.array(x)) - np.array(y))))\n",
    "    return theta - alpha * delta\n",
    "\n",
    "def gradient_descent(x, y, initial_theta, alpha, iterations, verbose=False):\n",
    "    theta = initial_theta\n",
    "    for i in range(iterations):\n",
    "        if verbose: print(\"** Iteration \", i)\n",
    "        theta = gradient_step(theta, x, y, alpha, verbose)\n",
    "    return theta"
   ]
  },
  {
   "cell_type": "code",
   "execution_count": 90,
   "id": "c486ad3a",
   "metadata": {},
   "outputs": [
    {
     "data": {
      "text/plain": [
       "array([2.31401837, 0.19593298])"
      ]
     },
     "execution_count": 90,
     "metadata": {},
     "output_type": "execute_result"
    }
   ],
   "source": [
    "gradient_descent(x, y, np.array([1, 2]), 0.01, 2000)"
   ]
  },
  {
   "cell_type": "code",
   "execution_count": null,
   "id": "716168d2",
   "metadata": {},
   "outputs": [],
   "source": []
  },
  {
   "cell_type": "code",
   "execution_count": null,
   "id": "d6b8cbad",
   "metadata": {},
   "outputs": [],
   "source": []
  },
  {
   "cell_type": "code",
   "execution_count": null,
   "id": "7c682dd6",
   "metadata": {},
   "outputs": [],
   "source": []
  },
  {
   "cell_type": "code",
   "execution_count": 79,
   "id": "63976941",
   "metadata": {},
   "outputs": [],
   "source": [
    "def cost_2(theta, x, y):\n",
    "    m = np.size(y)\n",
    "    return sum(1/(2*m) * np.square(h2(theta, np.array(x)) - np.array(y)))\n",
    "\n",
    "def h2(theta, x):\n",
    "    X = np.ones([len(x),len(theta)])\n",
    "    X[:,1] = x\n",
    "    return X.dot(theta.T)\n",
    "\n",
    "def linear_cost_prime(hyp, theta, x, y):\n",
    "    delta = np.zeros(np.shape(theta))\n",
    "    delta[0] -= (2/float(m)) * sum((y - hyp(theta, x)))\n",
    "    delta[1] -= (2/float(m)) * sum((y - hyp(theta, x)) * x)\n",
    "    return delta"
   ]
  },
  {
   "cell_type": "code",
   "execution_count": 86,
   "id": "dbf790dd",
   "metadata": {},
   "outputs": [],
   "source": [
    "def gradient_descent_2(hyp, cost, cost_prime, x, y, theta, alpha, iterations, verbose=True, verbose_interval:int=100):\n",
    "    cost_history = []\n",
    "    delta = np.zeros(np.shape(theta))\n",
    "    for i in range(iterations):\n",
    "        #if i%verbose_interval == 0:\n",
    "            #if verbose: print(\"** Iteration \", i)\n",
    "            delta = cost_prime(hyp, theta, x, y)\n",
    "            theta = theta - alpha * delta\n",
    "            cost_history.append(cost(theta, x, y))\n",
    "    return theta, cost_history"
   ]
  },
  {
   "cell_type": "code",
   "execution_count": 85,
   "id": "6331d792",
   "metadata": {},
   "outputs": [],
   "source": [
    "theta, cost_history = gradient_descent_2(h2, cost_2, linear_cost_prime, x, y, np.array([0, 0]), 0.05, 5000)"
   ]
  },
  {
   "cell_type": "code",
   "execution_count": 93,
   "id": "c8bfcf26",
   "metadata": {},
   "outputs": [
    {
     "data": {
      "text/plain": [
       "array([0.2332782 , 0.65285509])"
      ]
     },
     "execution_count": 93,
     "metadata": {},
     "output_type": "execute_result"
    }
   ],
   "source": [
    "theta"
   ]
  },
  {
   "cell_type": "code",
   "execution_count": 95,
   "id": "b229ba0c",
   "metadata": {
    "scrolled": true
   },
   "outputs": [
    {
     "data": {
      "text/plain": [
       "Text(0, 0.5, 'Cost')"
      ]
     },
     "execution_count": 95,
     "metadata": {},
     "output_type": "execute_result"
    },
    {
     "data": {
      "image/png": "[encoded data removed]",
      "text/plain": [
       "<Figure size 432x288 with 1 Axes>"
      ]
     },
     "metadata": {
      "needs_background": "light"
     },
     "output_type": "display_data"
    }
   ],
   "source": [
    "x_axis = np.linspace(0, 5000, 500)\n",
    "pyplot.plot(x_axis, cost_history[5:505], alpha=0.5)\n",
    "pyplot.title(\"Cost of approximation\")\n",
    "pyplot.xlabel(\"Iterations\")\n",
    "pyplot.ylabel(\"Cost\")"
   ]
  },
  {
   "cell_type": "code",
   "execution_count": 3,
   "id": "f2b6c035",
   "metadata": {},
   "outputs": [
    {
     "data": {
      "text/plain": [
       "(2.3152173913043477, array([0.19565217]))"
      ]
     },
     "execution_count": 3,
     "metadata": {},
     "output_type": "execute_result"
    }
   ],
   "source": [
    "x = [1, 3, 4.5, 5.5]\n",
    "y = [2.5, 3, 3, 3.5]\n",
    "X, y = np.array(x).reshape(-1, 1), np.array(y)\n",
    "\n",
    "from sklearn.linear_model import LinearRegression\n",
    "\n",
    "lg = LinearRegression().fit(X, y)\n",
    "lg.intercept_, lg.coef_"
   ]
  },
  {
   "cell_type": "code",
   "execution_count": null,
   "id": "e152bfae",
   "metadata": {},
   "outputs": [],
   "source": []
  },
  {
   "cell_type": "code",
   "execution_count": null,
   "id": "e69bd054",
   "metadata": {},
   "outputs": [],
   "source": []
  }
 ],
 "metadata": {
  "kernelspec": {
   "display_name": "Python 3 (ipykernel)",
   "language": "python",
   "name": "python3"
  },
  "language_info": {
   "codemirror_mode": {
    "name": "ipython",
    "version": 3
   },
   "file_extension": ".py",
   "mimetype": "text/x-python",
   "name": "python",
   "nbconvert_exporter": "python",
   "pygments_lexer": "ipython3",
   "version": "3.10.2"
  }
 },
 "nbformat": 4,
 "nbformat_minor": 5
}
